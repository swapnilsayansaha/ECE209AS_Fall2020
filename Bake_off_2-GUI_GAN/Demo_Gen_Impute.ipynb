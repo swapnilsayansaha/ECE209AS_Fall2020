{
 "cells": [
  {
   "cell_type": "code",
   "execution_count": null,
   "metadata": {},
   "outputs": [],
   "source": [
    "import gen_data\n",
    "import impute_data\n",
    "import matplotlib.pyplot as plt\n",
    "import numpy as np\n",
    "from utils import binary_sampler\n",
    "import data_utils"
   ]
  },
  {
   "cell_type": "code",
   "execution_count": null,
   "metadata": {},
   "outputs": [],
   "source": [
    "#import zip dataset as numpy matrix \n",
    "data = data_utils.load_training_data('dataset/ecg_data/1 NSR.zip','.mat')\n",
    "data.shape\n"
   ]
  },
  {
   "cell_type": "code",
   "execution_count": null,
   "metadata": {},
   "outputs": [],
   "source": [
    "# Generate 5 synthetic ECG data frames\n",
    "# hyperparameters: 1. data file 2. data type (.mat or .csv) 3. number of synthetic sequences to be generated \n",
    "# 4. at what epochs to save model (< epoch) 5. training epoch 6. model output dir\n",
    "synthesized_data = gen_data.gen_data_GAN(data = data, \n",
    "                 data_type = '.mat', \n",
    "                 num_seq = 5, \n",
    "                 model_chkpoint = 2,\n",
    "                 num_epochs = 10, \n",
    "                 out_dir = 'models/')"
   ]
  },
  {
   "cell_type": "code",
   "execution_count": null,
   "metadata": {},
   "outputs": [],
   "source": [
    "synthesized_data.shape"
   ]
  },
  {
   "cell_type": "code",
   "execution_count": null,
   "metadata": {},
   "outputs": [],
   "source": [
    "#Suppose user has corrected some parts and emulated missing data in one of the plots\n",
    "correction_by_user = np.array([synthesized_data[0,:]])\n",
    "correction_by_user.shape\n",
    "#emulating missing data by user:\n",
    "data_m = binary_sampler(1-0.3, correction_by_user.shape[0], correction_by_user.shape[1])\n",
    "inp_data = correction_by_user.copy()\n",
    "inp_data[data_m == 0] = np.nan\n",
    "inp_data = inp_data.flatten()\n",
    "fig, axes = plt.subplots(1,2, figsize=((14,8)))\n",
    "axes[0].plot(synthesized_data[0,:])\n",
    "axes[0].set_title('Generated data')\n",
    "axes[1].plot(inp_data)\n",
    "axes[1].set_title('User corrected data')"
   ]
  },
  {
   "cell_type": "code",
   "execution_count": null,
   "metadata": {},
   "outputs": [],
   "source": [
    "# Generate several suggestions for corrected (imputed) data as wanted by user\n",
    "# hyperparameters: 1. data file 2. data type (.mat or .csv) 3. vector to be imputed\n",
    "#4. missing data rate during training 5. batch size 6. hint rate 7. alpha 8. no. of epochs\n",
    "\n",
    "imputed_data = impute_data.impute_data(orig_data = data,\n",
    "                data_type = '.mat',\n",
    "                inp_data = inp_data,\n",
    "                miss_rate=0.3,\n",
    "                batch_size = 128,\n",
    "                hint_rate= 0.9,\n",
    "                alpha = 100,\n",
    "                iterations = 10000)"
   ]
  },
  {
   "cell_type": "code",
   "execution_count": null,
   "metadata": {},
   "outputs": [],
   "source": [
    "#Check out one of the suggestions for imputation\n",
    "fig, axes = plt.subplots(1,3, figsize=((14,8)))\n",
    "axes[0].plot(synthesized_data[0,:])\n",
    "axes[0].set_title('Generated data')\n",
    "axes[1].plot(inp_data)\n",
    "axes[1].set_title('User corrected data')\n",
    "axes[2].plot(imputed_data[:,0])\n",
    "axes[2].set_title('Imputed data by GAN') #a little imperfect due to normalization errors but will fix later"
   ]
  },
  {
   "cell_type": "code",
   "execution_count": null,
   "metadata": {},
   "outputs": [],
   "source": []
  }
 ],
 "metadata": {
  "kernelspec": {
   "display_name": "Python 3",
   "language": "python",
   "name": "python3"
  },
  "language_info": {
   "codemirror_mode": {
    "name": "ipython",
    "version": 3
   },
   "file_extension": ".py",
   "mimetype": "text/x-python",
   "name": "python",
   "nbconvert_exporter": "python",
   "pygments_lexer": "ipython3",
   "version": "3.7.9"
  }
 },
 "nbformat": 4,
 "nbformat_minor": 4
}
